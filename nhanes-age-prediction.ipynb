{
 "cells": [
  {
   "cell_type": "markdown",
   "id": "89af332a",
   "metadata": {
    "papermill": {
     "duration": 0.009645,
     "end_time": "2025-02-11T14:53:07.837733",
     "exception": false,
     "start_time": "2025-02-11T14:53:07.828088",
     "status": "completed"
    },
    "tags": []
   },
   "source": [
    "# Age Prediction using NHANES dataset"
   ]
  },
  {
   "cell_type": "markdown",
   "id": "fb3a4c18",
   "metadata": {
    "papermill": {
     "duration": 0.008722,
     "end_time": "2025-02-11T14:53:07.855682",
     "exception": false,
     "start_time": "2025-02-11T14:53:07.846960",
     "status": "completed"
    },
    "tags": []
   },
   "source": [
    "## Section 1: DATA EXPLORATION"
   ]
  },
  {
   "cell_type": "markdown",
   "id": "5d6849ec",
   "metadata": {
    "papermill": {
     "duration": 0.008657,
     "end_time": "2025-02-11T14:53:07.873361",
     "exception": false,
     "start_time": "2025-02-11T14:53:07.864704",
     "status": "completed"
    },
    "tags": []
   },
   "source": [
    "NHANES stands for The National Health and Nutrition Examination Survey, is a survey that administered by the Centers for Disease Control and Prevention (CDC). It aimed to collect extensive health and nutritional information from a diverse U.S. population."
   ]
  },
  {
   "cell_type": "code",
   "execution_count": 1,
   "id": "bf5d01af",
   "metadata": {
    "execution": {
     "iopub.execute_input": "2025-02-11T14:53:07.892427Z",
     "iopub.status.busy": "2025-02-11T14:53:07.892081Z",
     "iopub.status.idle": "2025-02-11T14:53:10.450444Z",
     "shell.execute_reply": "2025-02-11T14:53:10.449112Z"
    },
    "papermill": {
     "duration": 2.570275,
     "end_time": "2025-02-11T14:53:10.452544",
     "exception": false,
     "start_time": "2025-02-11T14:53:07.882269",
     "status": "completed"
    },
    "tags": []
   },
   "outputs": [],
   "source": [
    "# Import necessary libraries and packages\n",
    "import pandas as pd\n",
    "import numpy as np\n",
    "import seaborn as sns\n",
    "import matplotlib.pyplot as plt"
   ]
  },
  {
   "cell_type": "markdown",
   "id": "bdae96dc",
   "metadata": {
    "papermill": {
     "duration": 0.008443,
     "end_time": "2025-02-11T14:53:10.470165",
     "exception": false,
     "start_time": "2025-02-11T14:53:10.461722",
     "status": "completed"
    },
    "tags": []
   },
   "source": [
    "### Data Loading"
   ]
  },
  {
   "cell_type": "code",
   "execution_count": 2,
   "id": "04fea95b",
   "metadata": {
    "execution": {
     "iopub.execute_input": "2025-02-11T14:53:10.489645Z",
     "iopub.status.busy": "2025-02-11T14:53:10.489119Z",
     "iopub.status.idle": "2025-02-11T14:53:12.395956Z",
     "shell.execute_reply": "2025-02-11T14:53:12.394963Z"
    },
    "papermill": {
     "duration": 1.91837,
     "end_time": "2025-02-11T14:53:12.397775",
     "exception": false,
     "start_time": "2025-02-11T14:53:10.479405",
     "status": "completed"
    },
    "tags": []
   },
   "outputs": [],
   "source": [
    "# Load the dataset\n",
    "demographic = pd.read_csv('/kaggle/input/national-health-and-nutrition-examination-survey/demographic.csv', encoding='latin1')\n",
    "diet = pd.read_csv('/kaggle/input/national-health-and-nutrition-examination-survey/diet.csv', encoding='latin1')\n",
    "examination = pd.read_csv('/kaggle/input/national-health-and-nutrition-examination-survey/examination.csv', encoding='latin1')\n",
    "labs = pd.read_csv('/kaggle/input/national-health-and-nutrition-examination-survey/labs.csv', encoding='latin1')\n",
    "medications = pd.read_csv('/kaggle/input/national-health-and-nutrition-examination-survey/medications.csv', encoding='latin1')\n",
    "questionaire = pd.read_csv('/kaggle/input/national-health-and-nutrition-examination-survey/questionnaire.csv', encoding='latin1')"
   ]
  },
  {
   "cell_type": "markdown",
   "id": "df1298aa",
   "metadata": {
    "papermill": {
     "duration": 0.009594,
     "end_time": "2025-02-11T14:53:12.419780",
     "exception": false,
     "start_time": "2025-02-11T14:53:12.410186",
     "status": "completed"
    },
    "tags": []
   },
   "source": [
    "### Extract the relevant variables"
   ]
  },
  {
   "cell_type": "markdown",
   "id": "f860046e",
   "metadata": {
    "papermill": {
     "duration": 0.010612,
     "end_time": "2025-02-11T14:53:12.441278",
     "exception": false,
     "start_time": "2025-02-11T14:53:12.430666",
     "status": "completed"
    },
    "tags": []
   },
   "source": [
    "Since the dataset contains a lot of features (columns), only those relevant to age prediction or health analysis will be used. The variables and description are as belows:\n",
    "\n",
    "**SEQN**: sequence number\n",
    "\n",
    "***Demographic*** <br>\n",
    "-**RIAGENDR**: gender; 1- male, 2- female <br>\n",
    "-**RIDAGEYR**: age in years **Individuals 80 and over are topcoded at 80 years of age\n",
    "\n",
    "***Examination***<br>\n",
    "-**BPXDI1**, **BPXDI2**, **BPXDI3**: Diastolic blood pressure (mm/Hg)<br>\n",
    "-**BPXSY**, **BPXSY2**, **BPXSY3**: Systolic blood pressure (mm/Hg)<br>\n",
    "-**BMXBMI**: BMI index<br>\n",
    "-**BMXWT**: Weight (kg)<br>\n",
    "-**BMXHT**: Height (cm)<br>\n",
    "-**BPXPULS**: Pulse; 1- regular, 2- irregular\n",
    "\n",
    "***Lab***<br>\n",
    "-**LBXGLT**: Two Hour Glucose in Oral Glucose Tolerance Test (mg/dL)<br>\n",
    "-**LBXIN**: Insulin Level (uU/mL)<br>\n",
    "\n",
    "***Questionaire***<br>\n",
    "-**DIQ010**: Diagnosed with diabetes; 1- Yes, 2-No, 3-Borderline, 7- Refused, 9- Don't know<br>\n",
    "-**PAQ715**: Average hours per day use a computer (outside of school/work) ;0- < 1 hr, 1- 1 hr, 2- 2 hrs, 3- 3 hrs, 4- 4 hrs, 5- >= 5 hrs. 8- don't use a computer"
   ]
  },
  {
   "cell_type": "code",
   "execution_count": 3,
   "id": "d54bf9c4",
   "metadata": {
    "execution": {
     "iopub.execute_input": "2025-02-11T14:53:12.460151Z",
     "iopub.status.busy": "2025-02-11T14:53:12.459822Z",
     "iopub.status.idle": "2025-02-11T14:53:12.464380Z",
     "shell.execute_reply": "2025-02-11T14:53:12.463514Z"
    },
    "papermill": {
     "duration": 0.015852,
     "end_time": "2025-02-11T14:53:12.465923",
     "exception": false,
     "start_time": "2025-02-11T14:53:12.450071",
     "status": "completed"
    },
    "tags": []
   },
   "outputs": [],
   "source": [
    "# The relevant features columns\n",
    "demoCols = ['SEQN', 'RIDAGEYR', 'RIAGENDR']\n",
    "examCols = ['SEQN', 'BPXDI1', 'BPXDI2', 'BPXDI3', 'BPXSY1', 'BPXSY2', 'BPXSY3',  'BMXBMI', 'BMXWT', 'BMXHT', 'BPXPULS']\n",
    "labsCols = ['SEQN','LBXGLT', 'LBXIN']\n",
    "quesCols = ['SEQN', 'DIQ010', 'PAQ715']"
   ]
  },
  {
   "cell_type": "code",
   "execution_count": 4,
   "id": "af83bb0a",
   "metadata": {
    "execution": {
     "iopub.execute_input": "2025-02-11T14:53:12.484845Z",
     "iopub.status.busy": "2025-02-11T14:53:12.484514Z",
     "iopub.status.idle": "2025-02-11T14:53:12.510325Z",
     "shell.execute_reply": "2025-02-11T14:53:12.509539Z"
    },
    "papermill": {
     "duration": 0.037258,
     "end_time": "2025-02-11T14:53:12.512150",
     "exception": false,
     "start_time": "2025-02-11T14:53:12.474892",
     "status": "completed"
    },
    "tags": []
   },
   "outputs": [],
   "source": [
    "# Merging the DataFrames on 'SEQN'\n",
    "df = demographic[demoCols] \\\n",
    "    .merge(examination[examCols], on='SEQN', how='left') \\\n",
    "    .merge(labs[labsCols], on='SEQN', how='left') \\\n",
    "    .merge(questionaire[quesCols], on='SEQN', how='left')"
   ]
  },
  {
   "cell_type": "code",
   "execution_count": 5,
   "id": "19cc5a58",
   "metadata": {
    "execution": {
     "iopub.execute_input": "2025-02-11T14:53:12.531836Z",
     "iopub.status.busy": "2025-02-11T14:53:12.531515Z",
     "iopub.status.idle": "2025-02-11T14:53:12.565871Z",
     "shell.execute_reply": "2025-02-11T14:53:12.564597Z"
    },
    "papermill": {
     "duration": 0.045778,
     "end_time": "2025-02-11T14:53:12.567454",
     "exception": false,
     "start_time": "2025-02-11T14:53:12.521676",
     "status": "completed"
    },
    "tags": []
   },
   "outputs": [
    {
     "name": "stderr",
     "output_type": "stream",
     "text": [
      "/usr/local/lib/python3.10/dist-packages/pandas/io/formats/format.py:1458: RuntimeWarning: invalid value encountered in greater\n",
      "  has_large_values = (abs_vals > 1e6).any()\n",
      "/usr/local/lib/python3.10/dist-packages/pandas/io/formats/format.py:1459: RuntimeWarning: invalid value encountered in less\n",
      "  has_small_values = ((abs_vals < 10 ** (-self.digits)) & (abs_vals > 0)).any()\n",
      "/usr/local/lib/python3.10/dist-packages/pandas/io/formats/format.py:1459: RuntimeWarning: invalid value encountered in greater\n",
      "  has_small_values = ((abs_vals < 10 ** (-self.digits)) & (abs_vals > 0)).any()\n"
     ]
    },
    {
     "data": {
      "text/html": [
       "<div>\n",
       "<style scoped>\n",
       "    .dataframe tbody tr th:only-of-type {\n",
       "        vertical-align: middle;\n",
       "    }\n",
       "\n",
       "    .dataframe tbody tr th {\n",
       "        vertical-align: top;\n",
       "    }\n",
       "\n",
       "    .dataframe thead th {\n",
       "        text-align: right;\n",
       "    }\n",
       "</style>\n",
       "<table border=\"1\" class=\"dataframe\">\n",
       "  <thead>\n",
       "    <tr style=\"text-align: right;\">\n",
       "      <th></th>\n",
       "      <th>SEQN</th>\n",
       "      <th>RIDAGEYR</th>\n",
       "      <th>RIAGENDR</th>\n",
       "      <th>BPXDI1</th>\n",
       "      <th>BPXDI2</th>\n",
       "      <th>BPXDI3</th>\n",
       "      <th>BPXSY1</th>\n",
       "      <th>BPXSY2</th>\n",
       "      <th>BPXSY3</th>\n",
       "      <th>BMXBMI</th>\n",
       "      <th>BMXWT</th>\n",
       "      <th>BMXHT</th>\n",
       "      <th>BPXPULS</th>\n",
       "      <th>LBXGLT</th>\n",
       "      <th>LBXIN</th>\n",
       "      <th>DIQ010</th>\n",
       "      <th>PAQ715</th>\n",
       "    </tr>\n",
       "  </thead>\n",
       "  <tbody>\n",
       "    <tr>\n",
       "      <th>0</th>\n",
       "      <td>73557</td>\n",
       "      <td>69</td>\n",
       "      <td>1</td>\n",
       "      <td>72.0</td>\n",
       "      <td>76.0</td>\n",
       "      <td>74.0</td>\n",
       "      <td>122.0</td>\n",
       "      <td>114.0</td>\n",
       "      <td>102.0</td>\n",
       "      <td>26.7</td>\n",
       "      <td>78.3</td>\n",
       "      <td>171.3</td>\n",
       "      <td>1.0</td>\n",
       "      <td>NaN</td>\n",
       "      <td>NaN</td>\n",
       "      <td>1.0</td>\n",
       "      <td>8.0</td>\n",
       "    </tr>\n",
       "    <tr>\n",
       "      <th>1</th>\n",
       "      <td>73558</td>\n",
       "      <td>54</td>\n",
       "      <td>1</td>\n",
       "      <td>62.0</td>\n",
       "      <td>80.0</td>\n",
       "      <td>42.0</td>\n",
       "      <td>156.0</td>\n",
       "      <td>160.0</td>\n",
       "      <td>156.0</td>\n",
       "      <td>28.6</td>\n",
       "      <td>89.5</td>\n",
       "      <td>176.8</td>\n",
       "      <td>1.0</td>\n",
       "      <td>NaN</td>\n",
       "      <td>NaN</td>\n",
       "      <td>1.0</td>\n",
       "      <td>8.0</td>\n",
       "    </tr>\n",
       "    <tr>\n",
       "      <th>2</th>\n",
       "      <td>73559</td>\n",
       "      <td>72</td>\n",
       "      <td>1</td>\n",
       "      <td>90.0</td>\n",
       "      <td>76.0</td>\n",
       "      <td>80.0</td>\n",
       "      <td>140.0</td>\n",
       "      <td>140.0</td>\n",
       "      <td>146.0</td>\n",
       "      <td>28.9</td>\n",
       "      <td>88.9</td>\n",
       "      <td>175.3</td>\n",
       "      <td>1.0</td>\n",
       "      <td>NaN</td>\n",
       "      <td>5.83</td>\n",
       "      <td>1.0</td>\n",
       "      <td>0.0</td>\n",
       "    </tr>\n",
       "    <tr>\n",
       "      <th>3</th>\n",
       "      <td>73560</td>\n",
       "      <td>9</td>\n",
       "      <td>1</td>\n",
       "      <td>38.0</td>\n",
       "      <td>34.0</td>\n",
       "      <td>38.0</td>\n",
       "      <td>108.0</td>\n",
       "      <td>102.0</td>\n",
       "      <td>104.0</td>\n",
       "      <td>17.1</td>\n",
       "      <td>32.2</td>\n",
       "      <td>137.3</td>\n",
       "      <td>1.0</td>\n",
       "      <td>NaN</td>\n",
       "      <td>NaN</td>\n",
       "      <td>2.0</td>\n",
       "      <td>2.0</td>\n",
       "    </tr>\n",
       "    <tr>\n",
       "      <th>4</th>\n",
       "      <td>73561</td>\n",
       "      <td>73</td>\n",
       "      <td>2</td>\n",
       "      <td>86.0</td>\n",
       "      <td>88.0</td>\n",
       "      <td>86.0</td>\n",
       "      <td>136.0</td>\n",
       "      <td>134.0</td>\n",
       "      <td>142.0</td>\n",
       "      <td>19.7</td>\n",
       "      <td>52.0</td>\n",
       "      <td>162.4</td>\n",
       "      <td>1.0</td>\n",
       "      <td>NaN</td>\n",
       "      <td>6.12</td>\n",
       "      <td>2.0</td>\n",
       "      <td>1.0</td>\n",
       "    </tr>\n",
       "  </tbody>\n",
       "</table>\n",
       "</div>"
      ],
      "text/plain": [
       "    SEQN  RIDAGEYR  RIAGENDR  BPXDI1  BPXDI2  BPXDI3  BPXSY1  BPXSY2  BPXSY3  \\\n",
       "0  73557        69         1    72.0    76.0    74.0   122.0   114.0   102.0   \n",
       "1  73558        54         1    62.0    80.0    42.0   156.0   160.0   156.0   \n",
       "2  73559        72         1    90.0    76.0    80.0   140.0   140.0   146.0   \n",
       "3  73560         9         1    38.0    34.0    38.0   108.0   102.0   104.0   \n",
       "4  73561        73         2    86.0    88.0    86.0   136.0   134.0   142.0   \n",
       "\n",
       "   BMXBMI  BMXWT  BMXHT  BPXPULS  LBXGLT  LBXIN  DIQ010  PAQ715  \n",
       "0    26.7   78.3  171.3      1.0     NaN    NaN     1.0     8.0  \n",
       "1    28.6   89.5  176.8      1.0     NaN    NaN     1.0     8.0  \n",
       "2    28.9   88.9  175.3      1.0     NaN   5.83     1.0     0.0  \n",
       "3    17.1   32.2  137.3      1.0     NaN    NaN     2.0     2.0  \n",
       "4    19.7   52.0  162.4      1.0     NaN   6.12     2.0     1.0  "
      ]
     },
     "execution_count": 5,
     "metadata": {},
     "output_type": "execute_result"
    }
   ],
   "source": [
    "# observe first 5 rows of dataframe\n",
    "df.head()"
   ]
  },
  {
   "cell_type": "code",
   "execution_count": 6,
   "id": "71e0d5bc",
   "metadata": {
    "execution": {
     "iopub.execute_input": "2025-02-11T14:53:12.587032Z",
     "iopub.status.busy": "2025-02-11T14:53:12.586701Z",
     "iopub.status.idle": "2025-02-11T14:53:12.607936Z",
     "shell.execute_reply": "2025-02-11T14:53:12.606808Z"
    },
    "papermill": {
     "duration": 0.032953,
     "end_time": "2025-02-11T14:53:12.609591",
     "exception": false,
     "start_time": "2025-02-11T14:53:12.576638",
     "status": "completed"
    },
    "tags": []
   },
   "outputs": [
    {
     "name": "stdout",
     "output_type": "stream",
     "text": [
      "<class 'pandas.core.frame.DataFrame'>\n",
      "RangeIndex: 10175 entries, 0 to 10174\n",
      "Data columns (total 17 columns):\n",
      " #   Column    Non-Null Count  Dtype  \n",
      "---  ------    --------------  -----  \n",
      " 0   SEQN      10175 non-null  int64  \n",
      " 1   RIDAGEYR  10175 non-null  int64  \n",
      " 2   RIAGENDR  10175 non-null  int64  \n",
      " 3   BPXDI1    7172 non-null   float64\n",
      " 4   BPXDI2    7409 non-null   float64\n",
      " 5   BPXDI3    7408 non-null   float64\n",
      " 6   BPXSY1    7172 non-null   float64\n",
      " 7   BPXSY2    7409 non-null   float64\n",
      " 8   BPXSY3    7408 non-null   float64\n",
      " 9   BMXBMI    9055 non-null   float64\n",
      " 10  BMXWT     9723 non-null   float64\n",
      " 11  BMXHT     9067 non-null   float64\n",
      " 12  BPXPULS   9511 non-null   float64\n",
      " 13  LBXGLT    2345 non-null   float64\n",
      " 14  LBXIN     3093 non-null   float64\n",
      " 15  DIQ010    9769 non-null   float64\n",
      " 16  PAQ715    9448 non-null   float64\n",
      "dtypes: float64(14), int64(3)\n",
      "memory usage: 1.3 MB\n"
     ]
    }
   ],
   "source": [
    "# Accessing dataframe basic info\n",
    "df.info()"
   ]
  },
  {
   "cell_type": "markdown",
   "id": "ba9ca265",
   "metadata": {
    "papermill": {
     "duration": 0.009063,
     "end_time": "2025-02-11T14:53:12.628085",
     "exception": false,
     "start_time": "2025-02-11T14:53:12.619022",
     "status": "completed"
    },
    "tags": []
   },
   "source": [
    "It is known that now the data frame consists of 15 features(columns), 10175 respondents(row). In the next session, data cleaning will be done for invalid data and missing values."
   ]
  },
  {
   "cell_type": "markdown",
   "id": "615f4aaf",
   "metadata": {
    "papermill": {
     "duration": 0.008913,
     "end_time": "2025-02-11T14:53:12.646217",
     "exception": false,
     "start_time": "2025-02-11T14:53:12.637304",
     "status": "completed"
    },
    "tags": []
   },
   "source": [
    "### Section 2: DATA CLEANING"
   ]
  },
  {
   "cell_type": "markdown",
   "id": "e0e41d82",
   "metadata": {
    "papermill": {
     "duration": 0.009064,
     "end_time": "2025-02-11T14:53:12.664836",
     "exception": false,
     "start_time": "2025-02-11T14:53:12.655772",
     "status": "completed"
    },
    "tags": []
   },
   "source": [
    "### Unique Count"
   ]
  },
  {
   "cell_type": "code",
   "execution_count": 7,
   "id": "64c02dff",
   "metadata": {
    "execution": {
     "iopub.execute_input": "2025-02-11T14:53:12.684629Z",
     "iopub.status.busy": "2025-02-11T14:53:12.684234Z",
     "iopub.status.idle": "2025-02-11T14:53:12.696546Z",
     "shell.execute_reply": "2025-02-11T14:53:12.695076Z"
    },
    "papermill": {
     "duration": 0.024222,
     "end_time": "2025-02-11T14:53:12.698286",
     "exception": false,
     "start_time": "2025-02-11T14:53:12.674064",
     "status": "completed"
    },
    "tags": []
   },
   "outputs": [
    {
     "name": "stdout",
     "output_type": "stream",
     "text": [
      "The number of unique values in each column are:\n",
      "SEQN        10175\n",
      "RIDAGEYR       81\n",
      "RIAGENDR        2\n",
      "BPXDI1         59\n",
      "BPXDI2         56\n",
      "BPXDI3         58\n",
      "BPXSY1         71\n",
      "BPXSY2         73\n",
      "BPXSY3         74\n",
      "BMXBMI        440\n",
      "BMXWT        1385\n",
      "BMXHT        1089\n",
      "BPXPULS         2\n",
      "LBXGLT        234\n",
      "LBXIN        1745\n",
      "DIQ010          5\n",
      "PAQ715          7\n",
      "dtype: int64\n"
     ]
    }
   ],
   "source": [
    "# Check for unique count\n",
    "print(\"The number of unique values in each column are:\")\n",
    "print(df.nunique())"
   ]
  },
  {
   "cell_type": "markdown",
   "id": "670e9489",
   "metadata": {
    "papermill": {
     "duration": 0.0131,
     "end_time": "2025-02-11T14:53:12.722432",
     "exception": false,
     "start_time": "2025-02-11T14:53:12.709332",
     "status": "completed"
    },
    "tags": []
   },
   "source": [
    "### Frequency distribution of categorical variables"
   ]
  },
  {
   "cell_type": "code",
   "execution_count": 8,
   "id": "cb075e35",
   "metadata": {
    "execution": {
     "iopub.execute_input": "2025-02-11T14:53:12.749941Z",
     "iopub.status.busy": "2025-02-11T14:53:12.749605Z",
     "iopub.status.idle": "2025-02-11T14:53:13.676608Z",
     "shell.execute_reply": "2025-02-11T14:53:13.675464Z"
    },
    "papermill": {
     "duration": 0.94137,
     "end_time": "2025-02-11T14:53:13.678651",
     "exception": false,
     "start_time": "2025-02-11T14:53:12.737281",
     "status": "completed"
    },
    "tags": []
   },
   "outputs": [
    {
     "data": {
      "image/png": "[encoded data removed]",
      "text/plain": [
       "<Figure size 400x300 with 1 Axes>"
      ]
     },
     "metadata": {},
     "output_type": "display_data"
    },
    {
     "data": {
      "image/png": "[encoded data removed]",
      "text/plain": [
       "<Figure size 400x300 with 1 Axes>"
      ]
     },
     "metadata": {},
     "output_type": "display_data"
    },
    {
     "data": {
      "image/png": "[encoded data removed]",
      "text/plain": [
       "<Figure size 400x300 with 1 Axes>"
      ]
     },
     "metadata": {},
     "output_type": "display_data"
    },
    {
     "data": {
      "image/png": "[encoded data removed]",
      "text/plain": [
       "<Figure size 400x300 with 1 Axes>"
      ]
     },
     "metadata": {},
     "output_type": "display_data"
    }
   ],
   "source": [
    "# Plot frequency distribution of the 4 categorical variables\n",
    "cat = ['RIAGENDR', 'BPXPULS', 'DIQ010', 'PAQ715']\n",
    "for i in cat:\n",
    "    plt.figure(figsize=(4, 3))\n",
    "    ax = sns.countplot(x= i, data=df)\n",
    "    plt.title(f'Frequency Distribution of {i}')\n",
    "    # Get absolute values for bar labels\n",
    "    abs_values = df[i].value_counts(ascending=False).values\n",
    "    # Add labels to bars\n",
    "    ax.bar_label(container=ax.containers[0], labels=abs_values)"
   ]
  },
  {
   "cell_type": "markdown",
   "id": "10633533",
   "metadata": {
    "papermill": {
     "duration": 0.010847,
     "end_time": "2025-02-11T14:53:13.700995",
     "exception": false,
     "start_time": "2025-02-11T14:53:13.690148",
     "status": "completed"
    },
    "tags": []
   },
   "source": [
    "The frequency distribution plot of categorical variables shows there is no invalid values in the columns. \n",
    "Meanwhile for numerical values, boxplot will be plot for detecting outliers or anomalies. Before plotting, the average of three diastolic and systolic blood pressure will be computed to obtain only one value for diastolic and systolic respectively."
   ]
  },
  {
   "cell_type": "markdown",
   "id": "092b8acf",
   "metadata": {
    "papermill": {
     "duration": 0.010747,
     "end_time": "2025-02-11T14:53:13.722816",
     "exception": false,
     "start_time": "2025-02-11T14:53:13.712069",
     "status": "completed"
    },
    "tags": []
   },
   "source": [
    "### Averaging blood pressure columns"
   ]
  },
  {
   "cell_type": "code",
   "execution_count": 9,
   "id": "db9eb934",
   "metadata": {
    "execution": {
     "iopub.execute_input": "2025-02-11T14:53:13.747570Z",
     "iopub.status.busy": "2025-02-11T14:53:13.747174Z",
     "iopub.status.idle": "2025-02-11T14:53:13.773510Z",
     "shell.execute_reply": "2025-02-11T14:53:13.772702Z"
    },
    "papermill": {
     "duration": 0.041702,
     "end_time": "2025-02-11T14:53:13.775399",
     "exception": false,
     "start_time": "2025-02-11T14:53:13.733697",
     "status": "completed"
    },
    "tags": []
   },
   "outputs": [],
   "source": [
    "import statistics\n",
    "# Compute average diastolic blood pressure\n",
    "df['BPXDI'] = df[['BPXDI1', 'BPXDI2', 'BPXDI3']].mean(axis=1) # perform on columns\n",
    "df['BPXSY'] = df[['BPXSY1', 'BPXSY2', 'BPXSY3']].mean(axis=1)"
   ]
  },
  {
   "cell_type": "code",
   "execution_count": 10,
   "id": "6808686c",
   "metadata": {
    "execution": {
     "iopub.execute_input": "2025-02-11T14:53:13.798836Z",
     "iopub.status.busy": "2025-02-11T14:53:13.798421Z",
     "iopub.status.idle": "2025-02-11T14:53:13.804893Z",
     "shell.execute_reply": "2025-02-11T14:53:13.803876Z"
    },
    "papermill": {
     "duration": 0.019756,
     "end_time": "2025-02-11T14:53:13.806383",
     "exception": false,
     "start_time": "2025-02-11T14:53:13.786627",
     "status": "completed"
    },
    "tags": []
   },
   "outputs": [],
   "source": [
    "# save a new dataframe without original three diastolic and three systolic blood pressure\n",
    "df2 = df.drop(columns = df[['BPXDI1', 'BPXDI2', 'BPXDI3', 'BPXSY1', 'BPXSY2', 'BPXSY3']], axis = 1)"
   ]
  },
  {
   "cell_type": "markdown",
   "id": "720395ad",
   "metadata": {
    "papermill": {
     "duration": 0.010782,
     "end_time": "2025-02-11T14:53:13.828377",
     "exception": false,
     "start_time": "2025-02-11T14:53:13.817595",
     "status": "completed"
    },
    "tags": []
   },
   "source": [
    "### Boxplot of numerical variables"
   ]
  },
  {
   "cell_type": "code",
   "execution_count": 11,
   "id": "acb46517",
   "metadata": {
    "execution": {
     "iopub.execute_input": "2025-02-11T14:53:13.851549Z",
     "iopub.status.busy": "2025-02-11T14:53:13.851113Z",
     "iopub.status.idle": "2025-02-11T14:53:14.243675Z",
     "shell.execute_reply": "2025-02-11T14:53:14.242588Z"
    },
    "papermill": {
     "duration": 0.406031,
     "end_time": "2025-02-11T14:53:14.245244",
     "exception": false,
     "start_time": "2025-02-11T14:53:13.839213",
     "status": "completed"
    },
    "tags": []
   },
   "outputs": [
    {
     "data": {
      "text/plain": [
       "<Axes: >"
      ]
     },
     "execution_count": 11,
     "metadata": {},
     "output_type": "execute_result"
    },
    {
     "data": {
      "image/png": "[encoded data removed]",
      "text/plain": [
       "<Figure size 1500x800 with 1 Axes>"
      ]
     },
     "metadata": {},
     "output_type": "display_data"
    }
   ],
   "source": [
    "figure = plt.figure(figsize=(15,8))\n",
    "sns.boxplot(data=df.drop(columns =df[['RIAGENDR', 'BPXPULS', 'DIQ010', 'PAQ715', 'SEQN']]))"
   ]
  },
  {
   "cell_type": "markdown",
   "id": "dc61267c",
   "metadata": {
    "papermill": {
     "duration": 0.011874,
     "end_time": "2025-02-11T14:53:14.269280",
     "exception": false,
     "start_time": "2025-02-11T14:53:14.257406",
     "status": "completed"
    },
    "tags": []
   },
   "source": [
    "From the boxplot, it can ve observed that for LBXIN, there is a very obvious outlier, which located very far away from each other. It will be removed."
   ]
  },
  {
   "cell_type": "code",
   "execution_count": 12,
   "id": "f4e92a47",
   "metadata": {
    "execution": {
     "iopub.execute_input": "2025-02-11T14:53:14.294846Z",
     "iopub.status.busy": "2025-02-11T14:53:14.294435Z",
     "iopub.status.idle": "2025-02-11T14:53:14.301878Z",
     "shell.execute_reply": "2025-02-11T14:53:14.300996Z"
    },
    "papermill": {
     "duration": 0.02169,
     "end_time": "2025-02-11T14:53:14.303354",
     "exception": false,
     "start_time": "2025-02-11T14:53:14.281664",
     "status": "completed"
    },
    "tags": []
   },
   "outputs": [
    {
     "data": {
      "text/plain": [
       "Index([8329], dtype='int64')"
      ]
     },
     "execution_count": 12,
     "metadata": {},
     "output_type": "execute_result"
    }
   ],
   "source": [
    "# the maximum value in LBXIN\n",
    "df2['LBXIN'].max() \n",
    "# access the index of the outlier\n",
    "df2[df2['LBXIN']== df2['LBXIN'].max()].index"
   ]
  },
  {
   "cell_type": "code",
   "execution_count": 13,
   "id": "ed6f8ca8",
   "metadata": {
    "execution": {
     "iopub.execute_input": "2025-02-11T14:53:14.329234Z",
     "iopub.status.busy": "2025-02-11T14:53:14.328903Z",
     "iopub.status.idle": "2025-02-11T14:53:14.336875Z",
     "shell.execute_reply": "2025-02-11T14:53:14.335817Z"
    },
    "papermill": {
     "duration": 0.02285,
     "end_time": "2025-02-11T14:53:14.338597",
     "exception": false,
     "start_time": "2025-02-11T14:53:14.315747",
     "status": "completed"
    },
    "tags": []
   },
   "outputs": [
    {
     "data": {
      "text/plain": [
       "203.27"
      ]
     },
     "execution_count": 13,
     "metadata": {},
     "output_type": "execute_result"
    }
   ],
   "source": [
    "# remove the outlier row\n",
    "df2 = df2.drop(8329)\n",
    "# check again the maximum value\n",
    "df2['LBXIN'].max() "
   ]
  },
  {
   "cell_type": "markdown",
   "id": "ed94d7a6",
   "metadata": {
    "papermill": {
     "duration": 0.011816,
     "end_time": "2025-02-11T14:53:14.362822",
     "exception": false,
     "start_time": "2025-02-11T14:53:14.351006",
     "status": "completed"
    },
    "tags": []
   },
   "source": [
    "### Missing values"
   ]
  },
  {
   "cell_type": "code",
   "execution_count": 14,
   "id": "d761b313",
   "metadata": {
    "execution": {
     "iopub.execute_input": "2025-02-11T14:53:14.388538Z",
     "iopub.status.busy": "2025-02-11T14:53:14.388183Z",
     "iopub.status.idle": "2025-02-11T14:53:14.395395Z",
     "shell.execute_reply": "2025-02-11T14:53:14.394229Z"
    },
    "papermill": {
     "duration": 0.022127,
     "end_time": "2025-02-11T14:53:14.397121",
     "exception": false,
     "start_time": "2025-02-11T14:53:14.374994",
     "status": "completed"
    },
    "tags": []
   },
   "outputs": [
    {
     "name": "stdout",
     "output_type": "stream",
     "text": [
      "The number of missing values in each column are:\n",
      "SEQN           0\n",
      "RIDAGEYR       0\n",
      "RIAGENDR       0\n",
      "BMXBMI      1120\n",
      "BMXWT        452\n",
      "BMXHT       1108\n",
      "BPXPULS      664\n",
      "LBXGLT      7829\n",
      "LBXIN       7082\n",
      "DIQ010       406\n",
      "PAQ715       727\n",
      "BPXDI       2648\n",
      "BPXSY       2648\n",
      "dtype: int64\n"
     ]
    }
   ],
   "source": [
    "# Check for missing values\n",
    "print(\"The number of missing values in each column are:\")\n",
    "print(df2.isnull().sum())"
   ]
  },
  {
   "cell_type": "markdown",
   "id": "94c6f6ea",
   "metadata": {
    "papermill": {
     "duration": 0.011881,
     "end_time": "2025-02-11T14:53:14.421709",
     "exception": false,
     "start_time": "2025-02-11T14:53:14.409828",
     "status": "completed"
    },
    "tags": []
   },
   "source": [
    "Observed for LBXGLT and LBXIN, the glucose and insulin level contains more than 7000 missing values. The imputation for such large number of missing values may cause the results become not reliable. Hence, all the rows with missing values are removed."
   ]
  },
  {
   "cell_type": "code",
   "execution_count": 15,
   "id": "f682edf7",
   "metadata": {
    "execution": {
     "iopub.execute_input": "2025-02-11T14:53:14.447681Z",
     "iopub.status.busy": "2025-02-11T14:53:14.447277Z",
     "iopub.status.idle": "2025-02-11T14:53:14.453320Z",
     "shell.execute_reply": "2025-02-11T14:53:14.452327Z"
    },
    "papermill": {
     "duration": 0.020965,
     "end_time": "2025-02-11T14:53:14.455030",
     "exception": false,
     "start_time": "2025-02-11T14:53:14.434065",
     "status": "completed"
    },
    "tags": []
   },
   "outputs": [],
   "source": [
    "# Drop all the missing values\n",
    "df3 = df2.dropna()"
   ]
  },
  {
   "cell_type": "code",
   "execution_count": 16,
   "id": "de5b8c00",
   "metadata": {
    "execution": {
     "iopub.execute_input": "2025-02-11T14:53:14.481072Z",
     "iopub.status.busy": "2025-02-11T14:53:14.480741Z",
     "iopub.status.idle": "2025-02-11T14:53:14.501467Z",
     "shell.execute_reply": "2025-02-11T14:53:14.500446Z"
    },
    "papermill": {
     "duration": 0.035675,
     "end_time": "2025-02-11T14:53:14.503149",
     "exception": false,
     "start_time": "2025-02-11T14:53:14.467474",
     "status": "completed"
    },
    "tags": []
   },
   "outputs": [
    {
     "data": {
      "text/html": [
       "<div>\n",
       "<style scoped>\n",
       "    .dataframe tbody tr th:only-of-type {\n",
       "        vertical-align: middle;\n",
       "    }\n",
       "\n",
       "    .dataframe tbody tr th {\n",
       "        vertical-align: top;\n",
       "    }\n",
       "\n",
       "    .dataframe thead th {\n",
       "        text-align: right;\n",
       "    }\n",
       "</style>\n",
       "<table border=\"1\" class=\"dataframe\">\n",
       "  <thead>\n",
       "    <tr style=\"text-align: right;\">\n",
       "      <th></th>\n",
       "      <th>SEQN</th>\n",
       "      <th>RIDAGEYR</th>\n",
       "      <th>RIAGENDR</th>\n",
       "      <th>BMXBMI</th>\n",
       "      <th>BMXWT</th>\n",
       "      <th>BMXHT</th>\n",
       "      <th>BPXPULS</th>\n",
       "      <th>LBXGLT</th>\n",
       "      <th>LBXIN</th>\n",
       "      <th>DIQ010</th>\n",
       "      <th>PAQ715</th>\n",
       "      <th>BPXDI</th>\n",
       "      <th>BPXSY</th>\n",
       "    </tr>\n",
       "  </thead>\n",
       "  <tbody>\n",
       "    <tr>\n",
       "      <th>7</th>\n",
       "      <td>73564</td>\n",
       "      <td>61</td>\n",
       "      <td>2</td>\n",
       "      <td>35.7</td>\n",
       "      <td>93.4</td>\n",
       "      <td>161.8</td>\n",
       "      <td>1.0</td>\n",
       "      <td>150.0</td>\n",
       "      <td>14.91</td>\n",
       "      <td>2.0</td>\n",
       "      <td>0.0</td>\n",
       "      <td>80.666667</td>\n",
       "      <td>122.666667</td>\n",
       "    </tr>\n",
       "    <tr>\n",
       "      <th>11</th>\n",
       "      <td>73568</td>\n",
       "      <td>26</td>\n",
       "      <td>2</td>\n",
       "      <td>20.3</td>\n",
       "      <td>47.1</td>\n",
       "      <td>152.5</td>\n",
       "      <td>1.0</td>\n",
       "      <td>80.0</td>\n",
       "      <td>3.85</td>\n",
       "      <td>2.0</td>\n",
       "      <td>8.0</td>\n",
       "      <td>62.666667</td>\n",
       "      <td>104.666667</td>\n",
       "    </tr>\n",
       "    <tr>\n",
       "      <th>19</th>\n",
       "      <td>73576</td>\n",
       "      <td>16</td>\n",
       "      <td>1</td>\n",
       "      <td>23.2</td>\n",
       "      <td>67.3</td>\n",
       "      <td>170.4</td>\n",
       "      <td>1.0</td>\n",
       "      <td>68.0</td>\n",
       "      <td>6.14</td>\n",
       "      <td>2.0</td>\n",
       "      <td>0.0</td>\n",
       "      <td>66.666667</td>\n",
       "      <td>109.333333</td>\n",
       "    </tr>\n",
       "    <tr>\n",
       "      <th>20</th>\n",
       "      <td>73577</td>\n",
       "      <td>32</td>\n",
       "      <td>1</td>\n",
       "      <td>28.9</td>\n",
       "      <td>79.7</td>\n",
       "      <td>166.2</td>\n",
       "      <td>1.0</td>\n",
       "      <td>84.0</td>\n",
       "      <td>16.15</td>\n",
       "      <td>2.0</td>\n",
       "      <td>8.0</td>\n",
       "      <td>75.333333</td>\n",
       "      <td>119.333333</td>\n",
       "    </tr>\n",
       "    <tr>\n",
       "      <th>23</th>\n",
       "      <td>73580</td>\n",
       "      <td>38</td>\n",
       "      <td>2</td>\n",
       "      <td>35.9</td>\n",
       "      <td>93.5</td>\n",
       "      <td>161.4</td>\n",
       "      <td>1.0</td>\n",
       "      <td>81.0</td>\n",
       "      <td>10.92</td>\n",
       "      <td>2.0</td>\n",
       "      <td>0.0</td>\n",
       "      <td>75.000000</td>\n",
       "      <td>121.000000</td>\n",
       "    </tr>\n",
       "    <tr>\n",
       "      <th>...</th>\n",
       "      <td>...</td>\n",
       "      <td>...</td>\n",
       "      <td>...</td>\n",
       "      <td>...</td>\n",
       "      <td>...</td>\n",
       "      <td>...</td>\n",
       "      <td>...</td>\n",
       "      <td>...</td>\n",
       "      <td>...</td>\n",
       "      <td>...</td>\n",
       "      <td>...</td>\n",
       "      <td>...</td>\n",
       "      <td>...</td>\n",
       "    </tr>\n",
       "    <tr>\n",
       "      <th>10154</th>\n",
       "      <td>83711</td>\n",
       "      <td>38</td>\n",
       "      <td>2</td>\n",
       "      <td>33.5</td>\n",
       "      <td>81.9</td>\n",
       "      <td>156.3</td>\n",
       "      <td>1.0</td>\n",
       "      <td>73.0</td>\n",
       "      <td>6.53</td>\n",
       "      <td>2.0</td>\n",
       "      <td>1.0</td>\n",
       "      <td>75.000000</td>\n",
       "      <td>110.000000</td>\n",
       "    </tr>\n",
       "    <tr>\n",
       "      <th>10155</th>\n",
       "      <td>83712</td>\n",
       "      <td>61</td>\n",
       "      <td>1</td>\n",
       "      <td>30.0</td>\n",
       "      <td>90.8</td>\n",
       "      <td>174.1</td>\n",
       "      <td>1.0</td>\n",
       "      <td>208.0</td>\n",
       "      <td>13.02</td>\n",
       "      <td>2.0</td>\n",
       "      <td>0.0</td>\n",
       "      <td>74.000000</td>\n",
       "      <td>125.333333</td>\n",
       "    </tr>\n",
       "    <tr>\n",
       "      <th>10156</th>\n",
       "      <td>83713</td>\n",
       "      <td>34</td>\n",
       "      <td>1</td>\n",
       "      <td>23.7</td>\n",
       "      <td>62.5</td>\n",
       "      <td>162.4</td>\n",
       "      <td>1.0</td>\n",
       "      <td>124.0</td>\n",
       "      <td>21.41</td>\n",
       "      <td>2.0</td>\n",
       "      <td>2.0</td>\n",
       "      <td>68.666667</td>\n",
       "      <td>114.666667</td>\n",
       "    </tr>\n",
       "    <tr>\n",
       "      <th>10161</th>\n",
       "      <td>83718</td>\n",
       "      <td>60</td>\n",
       "      <td>2</td>\n",
       "      <td>27.4</td>\n",
       "      <td>74.7</td>\n",
       "      <td>165.1</td>\n",
       "      <td>1.0</td>\n",
       "      <td>108.0</td>\n",
       "      <td>4.99</td>\n",
       "      <td>2.0</td>\n",
       "      <td>0.0</td>\n",
       "      <td>69.333333</td>\n",
       "      <td>116.000000</td>\n",
       "    </tr>\n",
       "    <tr>\n",
       "      <th>10170</th>\n",
       "      <td>83727</td>\n",
       "      <td>26</td>\n",
       "      <td>1</td>\n",
       "      <td>24.5</td>\n",
       "      <td>71.8</td>\n",
       "      <td>171.3</td>\n",
       "      <td>1.0</td>\n",
       "      <td>108.0</td>\n",
       "      <td>3.76</td>\n",
       "      <td>2.0</td>\n",
       "      <td>1.0</td>\n",
       "      <td>72.666667</td>\n",
       "      <td>112.666667</td>\n",
       "    </tr>\n",
       "  </tbody>\n",
       "</table>\n",
       "<p>2233 rows × 13 columns</p>\n",
       "</div>"
      ],
      "text/plain": [
       "        SEQN  RIDAGEYR  RIAGENDR  BMXBMI  BMXWT  BMXHT  BPXPULS  LBXGLT  \\\n",
       "7      73564        61         2    35.7   93.4  161.8      1.0   150.0   \n",
       "11     73568        26         2    20.3   47.1  152.5      1.0    80.0   \n",
       "19     73576        16         1    23.2   67.3  170.4      1.0    68.0   \n",
       "20     73577        32         1    28.9   79.7  166.2      1.0    84.0   \n",
       "23     73580        38         2    35.9   93.5  161.4      1.0    81.0   \n",
       "...      ...       ...       ...     ...    ...    ...      ...     ...   \n",
       "10154  83711        38         2    33.5   81.9  156.3      1.0    73.0   \n",
       "10155  83712        61         1    30.0   90.8  174.1      1.0   208.0   \n",
       "10156  83713        34         1    23.7   62.5  162.4      1.0   124.0   \n",
       "10161  83718        60         2    27.4   74.7  165.1      1.0   108.0   \n",
       "10170  83727        26         1    24.5   71.8  171.3      1.0   108.0   \n",
       "\n",
       "       LBXIN  DIQ010  PAQ715      BPXDI       BPXSY  \n",
       "7      14.91     2.0     0.0  80.666667  122.666667  \n",
       "11      3.85     2.0     8.0  62.666667  104.666667  \n",
       "19      6.14     2.0     0.0  66.666667  109.333333  \n",
       "20     16.15     2.0     8.0  75.333333  119.333333  \n",
       "23     10.92     2.0     0.0  75.000000  121.000000  \n",
       "...      ...     ...     ...        ...         ...  \n",
       "10154   6.53     2.0     1.0  75.000000  110.000000  \n",
       "10155  13.02     2.0     0.0  74.000000  125.333333  \n",
       "10156  21.41     2.0     2.0  68.666667  114.666667  \n",
       "10161   4.99     2.0     0.0  69.333333  116.000000  \n",
       "10170   3.76     2.0     1.0  72.666667  112.666667  \n",
       "\n",
       "[2233 rows x 13 columns]"
      ]
     },
     "execution_count": 16,
     "metadata": {},
     "output_type": "execute_result"
    }
   ],
   "source": [
    "# print the new data frame\n",
    "df3"
   ]
  },
  {
   "cell_type": "markdown",
   "id": "fdd745bf",
   "metadata": {
    "papermill": {
     "duration": 0.012545,
     "end_time": "2025-02-11T14:53:14.529186",
     "exception": false,
     "start_time": "2025-02-11T14:53:14.516641",
     "status": "completed"
    },
    "tags": []
   },
   "source": [
    "The dataframe now contain only 2233 respondents. We will check missing values again."
   ]
  },
  {
   "cell_type": "code",
   "execution_count": 17,
   "id": "b4ec434d",
   "metadata": {
    "execution": {
     "iopub.execute_input": "2025-02-11T14:53:14.556285Z",
     "iopub.status.busy": "2025-02-11T14:53:14.555924Z",
     "iopub.status.idle": "2025-02-11T14:53:14.563343Z",
     "shell.execute_reply": "2025-02-11T14:53:14.562198Z"
    },
    "papermill": {
     "duration": 0.023392,
     "end_time": "2025-02-11T14:53:14.565467",
     "exception": false,
     "start_time": "2025-02-11T14:53:14.542075",
     "status": "completed"
    },
    "tags": []
   },
   "outputs": [
    {
     "name": "stdout",
     "output_type": "stream",
     "text": [
      "The number of missing values in each column are:\n",
      "SEQN        0\n",
      "RIDAGEYR    0\n",
      "RIAGENDR    0\n",
      "BMXBMI      0\n",
      "BMXWT       0\n",
      "BMXHT       0\n",
      "BPXPULS     0\n",
      "LBXGLT      0\n",
      "LBXIN       0\n",
      "DIQ010      0\n",
      "PAQ715      0\n",
      "BPXDI       0\n",
      "BPXSY       0\n",
      "dtype: int64\n"
     ]
    }
   ],
   "source": [
    "print(\"The number of missing values in each column are:\")\n",
    "print(df3.isnull().sum())"
   ]
  },
  {
   "cell_type": "markdown",
   "id": "6e8defb2",
   "metadata": {
    "papermill": {
     "duration": 0.012659,
     "end_time": "2025-02-11T14:53:14.591579",
     "exception": false,
     "start_time": "2025-02-11T14:53:14.578920",
     "status": "completed"
    },
    "tags": []
   },
   "source": [
    "## Section 3: Explanatory Data Analysis"
   ]
  },
  {
   "cell_type": "markdown",
   "id": "6af89c76",
   "metadata": {
    "papermill": {
     "duration": 0.069451,
     "end_time": "2025-02-11T14:53:14.674247",
     "exception": false,
     "start_time": "2025-02-11T14:53:14.604796",
     "status": "completed"
    },
    "tags": []
   },
   "source": [
    "## Section 4: Classification of Age Groups"
   ]
  },
  {
   "cell_type": "markdown",
   "id": "959e4c6e",
   "metadata": {
    "papermill": {
     "duration": 0.012529,
     "end_time": "2025-02-11T14:53:14.699658",
     "exception": false,
     "start_time": "2025-02-11T14:53:14.687129",
     "status": "completed"
    },
    "tags": []
   },
   "source": [
    "Instead of predicting the exact age of respondent, it is better to predict age group. Hence, the respondent will be categorized into age groups as belows:<br>\n",
    "**Children**- 0-14 years <br>\n",
    "**Youth**- 15-24 years<br>\n",
    "**Adults**- 25-64 years<br>\n",
    "**Seniors**- 65 years and elder"
   ]
  },
  {
   "cell_type": "code",
   "execution_count": 18,
   "id": "d23edaea",
   "metadata": {
    "execution": {
     "iopub.execute_input": "2025-02-11T14:53:14.726360Z",
     "iopub.status.busy": "2025-02-11T14:53:14.726023Z",
     "iopub.status.idle": "2025-02-11T14:53:14.734273Z",
     "shell.execute_reply": "2025-02-11T14:53:14.733059Z"
    },
    "papermill": {
     "duration": 0.023612,
     "end_time": "2025-02-11T14:53:14.736024",
     "exception": false,
     "start_time": "2025-02-11T14:53:14.712412",
     "status": "completed"
    },
    "tags": []
   },
   "outputs": [
    {
     "name": "stderr",
     "output_type": "stream",
     "text": [
      "<ipython-input-18-f55a0ddc0a5f>:13: SettingWithCopyWarning: \n",
      "A value is trying to be set on a copy of a slice from a DataFrame.\n",
      "Try using .loc[row_indexer,col_indexer] = value instead\n",
      "\n",
      "See the caveats in the documentation: https://pandas.pydata.org/pandas-docs/stable/user_guide/indexing.html#returning-a-view-versus-a-copy\n",
      "  df3['ageGroup'] = df3['RIDAGEYR'].apply(map_age_group)\n"
     ]
    }
   ],
   "source": [
    "# Create age group dictionary\n",
    "ageGroup = {'Children-Youth': range(0,25), \n",
    "           'Adults': range(25,65),\n",
    "           'Seniors': range(65,81)}\n",
    "# Map the age into ageGroup, the new column\n",
    "# Function to map age\n",
    "def map_age_group(age):\n",
    "    for group, age_range in ageGroup.items(): #.items() returns key-value pairs as tuples\n",
    "        if age in age_range:  # Check if age is in the given range\n",
    "            return group\n",
    "    return 'Unknown'\n",
    "\n",
    "df3['ageGroup'] = df3['RIDAGEYR'].apply(map_age_group)"
   ]
  },
  {
   "cell_type": "code",
   "execution_count": 19,
   "id": "1b0f917f",
   "metadata": {
    "execution": {
     "iopub.execute_input": "2025-02-11T14:53:14.765089Z",
     "iopub.status.busy": "2025-02-11T14:53:14.764731Z",
     "iopub.status.idle": "2025-02-11T14:53:14.964022Z",
     "shell.execute_reply": "2025-02-11T14:53:14.962942Z"
    },
    "papermill": {
     "duration": 0.214928,
     "end_time": "2025-02-11T14:53:14.965787",
     "exception": false,
     "start_time": "2025-02-11T14:53:14.750859",
     "status": "completed"
    },
    "tags": []
   },
   "outputs": [
    {
     "data": {
      "text/plain": [
       "[Text(0, 0, '1292'), Text(0, 0, '590'), Text(0, 0, '351')]"
      ]
     },
     "execution_count": 19,
     "metadata": {},
     "output_type": "execute_result"
    },
    {
     "data": {
      "image/png": "[encoded data removed]",
      "text/plain": [
       "<Figure size 400x300 with 1 Axes>"
      ]
     },
     "metadata": {},
     "output_type": "display_data"
    }
   ],
   "source": [
    "plt.figure(figsize=(4, 3))\n",
    "ax = sns.countplot(x= df3['ageGroup'], data=df3)\n",
    "plt.title('Frequency Distribution of age group')\n",
    "abs_values = df3['ageGroup'].value_counts(ascending=False).values\n",
    "ax.bar_label(container=ax.containers[0], labels=abs_values)"
   ]
  },
  {
   "cell_type": "markdown",
   "id": "f8da7880",
   "metadata": {
    "papermill": {
     "duration": 0.01315,
     "end_time": "2025-02-11T14:53:14.992476",
     "exception": false,
     "start_time": "2025-02-11T14:53:14.979326",
     "status": "completed"
    },
    "tags": []
   },
   "source": [
    "### Supervised learning Algorithm"
   ]
  },
  {
   "cell_type": "code",
   "execution_count": 20,
   "id": "9c9b0d53",
   "metadata": {
    "execution": {
     "iopub.execute_input": "2025-02-11T14:53:15.021606Z",
     "iopub.status.busy": "2025-02-11T14:53:15.021188Z",
     "iopub.status.idle": "2025-02-11T14:53:15.027204Z",
     "shell.execute_reply": "2025-02-11T14:53:15.026383Z"
    },
    "papermill": {
     "duration": 0.022147,
     "end_time": "2025-02-11T14:53:15.028819",
     "exception": false,
     "start_time": "2025-02-11T14:53:15.006672",
     "status": "completed"
    },
    "tags": []
   },
   "outputs": [],
   "source": [
    "# Remove column RIDAGEYR, SEQN from the dataset for classification\n",
    "df3_trim = df3.drop(columns = df3[['RIDAGEYR', 'SEQN']], axis = 1)"
   ]
  },
  {
   "cell_type": "markdown",
   "id": "0832edb9",
   "metadata": {
    "papermill": {
     "duration": 0.013192,
     "end_time": "2025-02-11T14:53:15.055787",
     "exception": false,
     "start_time": "2025-02-11T14:53:15.042595",
     "status": "completed"
    },
    "tags": []
   },
   "source": [
    "### Gaussian Naive Bayes"
   ]
  },
  {
   "cell_type": "code",
   "execution_count": 21,
   "id": "55552c1b",
   "metadata": {
    "execution": {
     "iopub.execute_input": "2025-02-11T14:53:15.084255Z",
     "iopub.status.busy": "2025-02-11T14:53:15.083882Z",
     "iopub.status.idle": "2025-02-11T14:53:15.462289Z",
     "shell.execute_reply": "2025-02-11T14:53:15.461172Z"
    },
    "papermill": {
     "duration": 0.394966,
     "end_time": "2025-02-11T14:53:15.464298",
     "exception": false,
     "start_time": "2025-02-11T14:53:15.069332",
     "status": "completed"
    },
    "tags": []
   },
   "outputs": [],
   "source": [
    "from sklearn import model_selection\n",
    "from sklearn.naive_bayes import GaussianNB\n",
    "from sklearn.metrics import accuracy_score\n",
    "from sklearn.metrics import classification_report\n",
    "from sklearn.metrics import confusion_matrix\n",
    "from sklearn.metrics import roc_curve, roc_auc_score"
   ]
  },
  {
   "cell_type": "code",
   "execution_count": 22,
   "id": "61f75da0",
   "metadata": {
    "execution": {
     "iopub.execute_input": "2025-02-11T14:53:15.493196Z",
     "iopub.status.busy": "2025-02-11T14:53:15.492872Z",
     "iopub.status.idle": "2025-02-11T14:53:15.498193Z",
     "shell.execute_reply": "2025-02-11T14:53:15.497365Z"
    },
    "papermill": {
     "duration": 0.021669,
     "end_time": "2025-02-11T14:53:15.499636",
     "exception": false,
     "start_time": "2025-02-11T14:53:15.477967",
     "status": "completed"
    },
    "tags": []
   },
   "outputs": [],
   "source": [
    "# Load features and target\n",
    "features = df3_trim.drop(columns = 'ageGroup')\n",
    "target= df3_trim[\"ageGroup\"]"
   ]
  },
  {
   "cell_type": "code",
   "execution_count": 23,
   "id": "1853af56",
   "metadata": {
    "execution": {
     "iopub.execute_input": "2025-02-11T14:53:15.527807Z",
     "iopub.status.busy": "2025-02-11T14:53:15.527440Z",
     "iopub.status.idle": "2025-02-11T14:53:15.534206Z",
     "shell.execute_reply": "2025-02-11T14:53:15.533152Z"
    },
    "papermill": {
     "duration": 0.022717,
     "end_time": "2025-02-11T14:53:15.535938",
     "exception": false,
     "start_time": "2025-02-11T14:53:15.513221",
     "status": "completed"
    },
    "tags": []
   },
   "outputs": [],
   "source": [
    "# Split the dataset into 80% training set and 20% test set\n",
    "X_train, X_test, y_train, y_test = model_selection.train_test_split(\n",
    "    features, target, test_size=0.2, random_state=123)"
   ]
  },
  {
   "cell_type": "code",
   "execution_count": 24,
   "id": "339502db",
   "metadata": {
    "execution": {
     "iopub.execute_input": "2025-02-11T14:53:15.564358Z",
     "iopub.status.busy": "2025-02-11T14:53:15.563948Z",
     "iopub.status.idle": "2025-02-11T14:53:15.569769Z",
     "shell.execute_reply": "2025-02-11T14:53:15.568842Z"
    },
    "papermill": {
     "duration": 0.021629,
     "end_time": "2025-02-11T14:53:15.571256",
     "exception": false,
     "start_time": "2025-02-11T14:53:15.549627",
     "status": "completed"
    },
    "tags": []
   },
   "outputs": [
    {
     "name": "stdout",
     "output_type": "stream",
     "text": [
      "The training set shape is (1786, 11) and The test set shape is (447, 11)\n"
     ]
    }
   ],
   "source": [
    "print(\"The training set shape is\", X_train.shape, \"and The test set shape is\", X_test.shape)"
   ]
  },
  {
   "cell_type": "code",
   "execution_count": 25,
   "id": "6d8d6bcc",
   "metadata": {
    "execution": {
     "iopub.execute_input": "2025-02-11T14:53:15.600436Z",
     "iopub.status.busy": "2025-02-11T14:53:15.600064Z",
     "iopub.status.idle": "2025-02-11T14:53:15.614565Z",
     "shell.execute_reply": "2025-02-11T14:53:15.613605Z"
    },
    "papermill": {
     "duration": 0.031215,
     "end_time": "2025-02-11T14:53:15.616352",
     "exception": false,
     "start_time": "2025-02-11T14:53:15.585137",
     "status": "completed"
    },
    "tags": []
   },
   "outputs": [],
   "source": [
    "#Create GNB object\n",
    "classiferGNB = GaussianNB()\n",
    "#Train model with GNB\n",
    "modelGNB = classiferGNB.fit(X_train,y_train)\n",
    "#Make prediction on test set\n",
    "predictGNB= modelGNB.predict(X_test)"
   ]
  },
  {
   "cell_type": "code",
   "execution_count": 26,
   "id": "2b2232d3",
   "metadata": {
    "execution": {
     "iopub.execute_input": "2025-02-11T14:53:15.644828Z",
     "iopub.status.busy": "2025-02-11T14:53:15.644393Z",
     "iopub.status.idle": "2025-02-11T14:53:15.664046Z",
     "shell.execute_reply": "2025-02-11T14:53:15.662707Z"
    },
    "papermill": {
     "duration": 0.035809,
     "end_time": "2025-02-11T14:53:15.665820",
     "exception": false,
     "start_time": "2025-02-11T14:53:15.630011",
     "status": "completed"
    },
    "tags": []
   },
   "outputs": [
    {
     "name": "stdout",
     "output_type": "stream",
     "text": [
      "                precision    recall  f1-score   support\n",
      "\n",
      "        Adults       0.72      0.53      0.61       258\n",
      "Children-Youth       0.44      0.82      0.57       120\n",
      "       Seniors       0.53      0.29      0.37        69\n",
      "\n",
      "      accuracy                           0.57       447\n",
      "     macro avg       0.56      0.54      0.52       447\n",
      "  weighted avg       0.62      0.57      0.56       447\n",
      "\n"
     ]
    }
   ],
   "source": [
    "#Print the classification metric for evaluation\n",
    "print(classification_report(y_test, predictGNB))"
   ]
  },
  {
   "cell_type": "markdown",
   "id": "2a17dca0",
   "metadata": {
    "papermill": {
     "duration": 0.013783,
     "end_time": "2025-02-11T14:53:15.694480",
     "exception": false,
     "start_time": "2025-02-11T14:53:15.680697",
     "status": "completed"
    },
    "tags": []
   },
   "source": [
    "### K Nearest Neighbours"
   ]
  },
  {
   "cell_type": "code",
   "execution_count": 27,
   "id": "9826347b",
   "metadata": {
    "execution": {
     "iopub.execute_input": "2025-02-11T14:53:15.723439Z",
     "iopub.status.busy": "2025-02-11T14:53:15.723069Z",
     "iopub.status.idle": "2025-02-11T14:53:15.934965Z",
     "shell.execute_reply": "2025-02-11T14:53:15.934133Z"
    },
    "papermill": {
     "duration": 0.228606,
     "end_time": "2025-02-11T14:53:15.936945",
     "exception": false,
     "start_time": "2025-02-11T14:53:15.708339",
     "status": "completed"
    },
    "tags": []
   },
   "outputs": [],
   "source": [
    "from sklearn import preprocessing\n",
    "from sklearn.neighbors import KNeighborsClassifier\n",
    "from sklearn import metrics"
   ]
  },
  {
   "cell_type": "code",
   "execution_count": 28,
   "id": "5a710fcb",
   "metadata": {
    "execution": {
     "iopub.execute_input": "2025-02-11T14:53:15.966002Z",
     "iopub.status.busy": "2025-02-11T14:53:15.965622Z",
     "iopub.status.idle": "2025-02-11T14:53:15.976145Z",
     "shell.execute_reply": "2025-02-11T14:53:15.975285Z"
    },
    "papermill": {
     "duration": 0.027027,
     "end_time": "2025-02-11T14:53:15.977913",
     "exception": false,
     "start_time": "2025-02-11T14:53:15.950886",
     "status": "completed"
    },
    "tags": []
   },
   "outputs": [],
   "source": [
    "scaler = preprocessing.MinMaxScaler()\n",
    "X_train_scaled = scaler.fit_transform(X_train)\n",
    "X_test_scaled = scaler.transform(X_test)"
   ]
  },
  {
   "cell_type": "code",
   "execution_count": 29,
   "id": "5a090197",
   "metadata": {
    "execution": {
     "iopub.execute_input": "2025-02-11T14:53:16.006398Z",
     "iopub.status.busy": "2025-02-11T14:53:16.006074Z",
     "iopub.status.idle": "2025-02-11T14:53:16.062387Z",
     "shell.execute_reply": "2025-02-11T14:53:16.061226Z"
    },
    "papermill": {
     "duration": 0.072398,
     "end_time": "2025-02-11T14:53:16.064059",
     "exception": false,
     "start_time": "2025-02-11T14:53:15.991661",
     "status": "completed"
    },
    "tags": []
   },
   "outputs": [
    {
     "name": "stdout",
     "output_type": "stream",
     "text": [
      "                precision    recall  f1-score   support\n",
      "\n",
      "        Adults       0.66      0.86      0.75       258\n",
      "Children-Youth       0.69      0.43      0.53       120\n",
      "       Seniors       0.51      0.28      0.36        69\n",
      "\n",
      "      accuracy                           0.66       447\n",
      "     macro avg       0.62      0.52      0.55       447\n",
      "  weighted avg       0.65      0.66      0.63       447\n",
      "\n"
     ]
    }
   ],
   "source": [
    "modelKNN = KNeighborsClassifier(n_neighbors=10)\n",
    "\n",
    "#Train the model using KNN with scaled data\n",
    "modelKNN.fit(X_train_scaled,y_train)\n",
    "\n",
    "#Make prediction\n",
    "predictKNN = modelKNN.predict(X_test_scaled)\n",
    "\n",
    "print(classification_report(y_test, predictKNN))"
   ]
  },
  {
   "cell_type": "markdown",
   "id": "33060ba0",
   "metadata": {
    "papermill": {
     "duration": 0.013413,
     "end_time": "2025-02-11T14:53:16.091337",
     "exception": false,
     "start_time": "2025-02-11T14:53:16.077924",
     "status": "completed"
    },
    "tags": []
   },
   "source": [
    "### Multinomial Naive Bayes"
   ]
  },
  {
   "cell_type": "code",
   "execution_count": 30,
   "id": "a1ceeac9",
   "metadata": {
    "execution": {
     "iopub.execute_input": "2025-02-11T14:53:16.120255Z",
     "iopub.status.busy": "2025-02-11T14:53:16.119918Z",
     "iopub.status.idle": "2025-02-11T14:53:16.123973Z",
     "shell.execute_reply": "2025-02-11T14:53:16.123070Z"
    },
    "papermill": {
     "duration": 0.020112,
     "end_time": "2025-02-11T14:53:16.125401",
     "exception": false,
     "start_time": "2025-02-11T14:53:16.105289",
     "status": "completed"
    },
    "tags": []
   },
   "outputs": [],
   "source": [
    "from sklearn.naive_bayes import MultinomialNB"
   ]
  },
  {
   "cell_type": "code",
   "execution_count": 31,
   "id": "a579b6f6",
   "metadata": {
    "execution": {
     "iopub.execute_input": "2025-02-11T14:53:16.154174Z",
     "iopub.status.busy": "2025-02-11T14:53:16.153846Z",
     "iopub.status.idle": "2025-02-11T14:53:16.185595Z",
     "shell.execute_reply": "2025-02-11T14:53:16.184238Z"
    },
    "papermill": {
     "duration": 0.048227,
     "end_time": "2025-02-11T14:53:16.187581",
     "exception": false,
     "start_time": "2025-02-11T14:53:16.139354",
     "status": "completed"
    },
    "tags": []
   },
   "outputs": [
    {
     "name": "stdout",
     "output_type": "stream",
     "text": [
      "                precision    recall  f1-score   support\n",
      "\n",
      "        Adults       0.69      0.61      0.65       258\n",
      "Children-Youth       0.56      0.53      0.54       120\n",
      "       Seniors       0.32      0.48      0.38        69\n",
      "\n",
      "      accuracy                           0.57       447\n",
      "     macro avg       0.52      0.54      0.53       447\n",
      "  weighted avg       0.60      0.57      0.58       447\n",
      "\n"
     ]
    }
   ],
   "source": [
    "classifierMNB= MultinomialNB()\n",
    "\n",
    "modelMNB = classifierMNB.fit(X_train,y_train)\n",
    "\n",
    "predictMNB = modelMNB.predict(X_test)\n",
    "\n",
    "print(classification_report(y_test, predictMNB))"
   ]
  },
  {
   "cell_type": "markdown",
   "id": "624b6f17",
   "metadata": {
    "papermill": {
     "duration": 0.013236,
     "end_time": "2025-02-11T14:53:16.214680",
     "exception": false,
     "start_time": "2025-02-11T14:53:16.201444",
     "status": "completed"
    },
    "tags": []
   },
   "source": [
    "### REFERENCES"
   ]
  },
  {
   "cell_type": "markdown",
   "id": "f427ea92",
   "metadata": {
    "papermill": {
     "duration": 0.013317,
     "end_time": "2025-02-11T14:53:16.241839",
     "exception": false,
     "start_time": "2025-02-11T14:53:16.228522",
     "status": "completed"
    },
    "tags": []
   },
   "source": [
    "1. http://wwwn.cdc.gov/nchs/nhanes/search/variablelist.aspx?Component=Demographics&Cycle=2013-2014"
   ]
  }
 ],
 "metadata": {
  "kaggle": {
   "accelerator": "none",
   "dataSources": [
    {
     "datasetId": 731,
     "sourceId": 1359,
     "sourceType": "datasetVersion"
    }
   ],
   "dockerImageVersionId": 30886,
   "isGpuEnabled": false,
   "isInternetEnabled": true,
   "language": "python",
   "sourceType": "notebook"
  },
  "kernelspec": {
   "display_name": "Python 3",
   "language": "python",
   "name": "python3"
  },
  "language_info": {
   "codemirror_mode": {
    "name": "ipython",
    "version": 3
   },
   "file_extension": ".py",
   "mimetype": "text/x-python",
   "name": "python",
   "nbconvert_exporter": "python",
   "pygments_lexer": "ipython3",
   "version": "3.10.12"
  },
  "papermill": {
   "default_parameters": {},
   "duration": 12.007645,
   "end_time": "2025-02-11T14:53:17.075197",
   "environment_variables": {},
   "exception": null,
   "input_path": "__notebook__.ipynb",
   "output_path": "__notebook__.ipynb",
   "parameters": {},
   "start_time": "2025-02-11T14:53:05.067552",
   "version": "2.6.0"
  }
 },
 "nbformat": 4,
 "nbformat_minor": 5
}
